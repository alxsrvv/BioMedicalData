{
 "cells": [
  {
   "cell_type": "markdown",
   "metadata": {},
   "source": [
    "<h3>Парний t-критерій Стьюдента</h3>"
   ]
  },
  {
   "cell_type": "markdown",
   "metadata": {},
   "source": [
    "Мне показалось, что данные с прошлой лабораторной подходят и для данной работы, так как в них есть результаты 'до' и 'после'. Поэтому будем дальше работать с наркотиками и плацебо. А именно, с влиянием Alprazolam (чаще xanax) на память человека."
   ]
  },
  {
   "cell_type": "markdown",
   "metadata": {},
   "source": [
    "1. Обрати реальні дані з kaggle або сгенерувати випадкові дані. Дані мають відповідати вимогам викладеним вище. Формат даних:\n",
    "\n",
    "| Група 1 | Група 2  | \n",
    "| ------------- |--------- |\n",
    "| $k_{1}  $   | $k_{2}$   |\n",
    "| $...$   | $...$   |\n",
    "| $k_{1n}$   | $k_{2n}$   |"
   ]
  },
  {
   "cell_type": "code",
   "execution_count": 8,
   "metadata": {},
   "outputs": [
    {
     "data": {
      "text/html": [
       "<div>\n",
       "<style scoped>\n",
       "    .dataframe tbody tr th:only-of-type {\n",
       "        vertical-align: middle;\n",
       "    }\n",
       "\n",
       "    .dataframe tbody tr th {\n",
       "        vertical-align: top;\n",
       "    }\n",
       "\n",
       "    .dataframe thead th {\n",
       "        text-align: right;\n",
       "    }\n",
       "</style>\n",
       "<table border=\"1\" class=\"dataframe\">\n",
       "  <thead>\n",
       "    <tr style=\"text-align: right;\">\n",
       "      <th></th>\n",
       "      <th>first_name</th>\n",
       "      <th>last_name</th>\n",
       "      <th>age</th>\n",
       "      <th>Happy_Sad_group</th>\n",
       "      <th>Dosage</th>\n",
       "      <th>Drug</th>\n",
       "      <th>Mem_Score_Before</th>\n",
       "      <th>Mem_Score_After</th>\n",
       "      <th>Diff</th>\n",
       "    </tr>\n",
       "  </thead>\n",
       "  <tbody>\n",
       "    <tr>\n",
       "      <th>193</th>\n",
       "      <td>Jacob</td>\n",
       "      <td>Novak</td>\n",
       "      <td>52</td>\n",
       "      <td>H</td>\n",
       "      <td>3</td>\n",
       "      <td>T</td>\n",
       "      <td>71.3</td>\n",
       "      <td>74.3</td>\n",
       "      <td>3.0</td>\n",
       "    </tr>\n",
       "    <tr>\n",
       "      <th>194</th>\n",
       "      <td>Teo</td>\n",
       "      <td>Steiner</td>\n",
       "      <td>41</td>\n",
       "      <td>S</td>\n",
       "      <td>3</td>\n",
       "      <td>T</td>\n",
       "      <td>72.5</td>\n",
       "      <td>70.4</td>\n",
       "      <td>-2.1</td>\n",
       "    </tr>\n",
       "    <tr>\n",
       "      <th>195</th>\n",
       "      <td>Alexander</td>\n",
       "      <td>Takahashi</td>\n",
       "      <td>54</td>\n",
       "      <td>S</td>\n",
       "      <td>3</td>\n",
       "      <td>T</td>\n",
       "      <td>30.8</td>\n",
       "      <td>33.1</td>\n",
       "      <td>2.3</td>\n",
       "    </tr>\n",
       "    <tr>\n",
       "      <th>196</th>\n",
       "      <td>Alexandere</td>\n",
       "      <td>Takahashi</td>\n",
       "      <td>40</td>\n",
       "      <td>H</td>\n",
       "      <td>3</td>\n",
       "      <td>T</td>\n",
       "      <td>53.6</td>\n",
       "      <td>53.8</td>\n",
       "      <td>0.2</td>\n",
       "    </tr>\n",
       "    <tr>\n",
       "      <th>197</th>\n",
       "      <td>Chloe</td>\n",
       "      <td>Takahashi</td>\n",
       "      <td>32</td>\n",
       "      <td>S</td>\n",
       "      <td>3</td>\n",
       "      <td>T</td>\n",
       "      <td>43.1</td>\n",
       "      <td>42.1</td>\n",
       "      <td>-1.0</td>\n",
       "    </tr>\n",
       "  </tbody>\n",
       "</table>\n",
       "</div>"
      ],
      "text/plain": [
       "     first_name  last_name  age Happy_Sad_group  Dosage Drug  \\\n",
       "193       Jacob      Novak   52               H       3    T   \n",
       "194         Teo    Steiner   41               S       3    T   \n",
       "195   Alexander  Takahashi   54               S       3    T   \n",
       "196  Alexandere  Takahashi   40               H       3    T   \n",
       "197       Chloe  Takahashi   32               S       3    T   \n",
       "\n",
       "     Mem_Score_Before  Mem_Score_After  Diff  \n",
       "193              71.3             74.3   3.0  \n",
       "194              72.5             70.4  -2.1  \n",
       "195              30.8             33.1   2.3  \n",
       "196              53.6             53.8   0.2  \n",
       "197              43.1             42.1  -1.0  "
      ]
     },
     "execution_count": 8,
     "metadata": {},
     "output_type": "execute_result"
    }
   ],
   "source": [
    "import pandas as pd\n",
    "import seaborn as sns\n",
    "from math import sqrt\n",
    "\n",
    "drugged_memory_test = pd.read_csv('Islander_data.csv')\n",
    "drugged_memory_test.tail()"
   ]
  },
  {
   "cell_type": "code",
   "execution_count": 5,
   "metadata": {},
   "outputs": [
    {
     "data": {
      "text/html": [
       "<div>\n",
       "<style scoped>\n",
       "    .dataframe tbody tr th:only-of-type {\n",
       "        vertical-align: middle;\n",
       "    }\n",
       "\n",
       "    .dataframe tbody tr th {\n",
       "        vertical-align: top;\n",
       "    }\n",
       "\n",
       "    .dataframe thead th {\n",
       "        text-align: right;\n",
       "    }\n",
       "</style>\n",
       "<table border=\"1\" class=\"dataframe\">\n",
       "  <thead>\n",
       "    <tr style=\"text-align: right;\">\n",
       "      <th></th>\n",
       "      <th>Before</th>\n",
       "      <th>After</th>\n",
       "    </tr>\n",
       "  </thead>\n",
       "  <tbody>\n",
       "    <tr>\n",
       "      <th>0</th>\n",
       "      <td>63.5</td>\n",
       "      <td>61.2</td>\n",
       "    </tr>\n",
       "    <tr>\n",
       "      <th>1</th>\n",
       "      <td>41.6</td>\n",
       "      <td>40.7</td>\n",
       "    </tr>\n",
       "    <tr>\n",
       "      <th>2</th>\n",
       "      <td>59.7</td>\n",
       "      <td>55.1</td>\n",
       "    </tr>\n",
       "    <tr>\n",
       "      <th>3</th>\n",
       "      <td>51.7</td>\n",
       "      <td>51.2</td>\n",
       "    </tr>\n",
       "    <tr>\n",
       "      <th>4</th>\n",
       "      <td>47.0</td>\n",
       "      <td>47.1</td>\n",
       "    </tr>\n",
       "    <tr>\n",
       "      <th>...</th>\n",
       "      <td>...</td>\n",
       "      <td>...</td>\n",
       "    </tr>\n",
       "    <tr>\n",
       "      <th>193</th>\n",
       "      <td>71.3</td>\n",
       "      <td>74.3</td>\n",
       "    </tr>\n",
       "    <tr>\n",
       "      <th>194</th>\n",
       "      <td>72.5</td>\n",
       "      <td>70.4</td>\n",
       "    </tr>\n",
       "    <tr>\n",
       "      <th>195</th>\n",
       "      <td>30.8</td>\n",
       "      <td>33.1</td>\n",
       "    </tr>\n",
       "    <tr>\n",
       "      <th>196</th>\n",
       "      <td>53.6</td>\n",
       "      <td>53.8</td>\n",
       "    </tr>\n",
       "    <tr>\n",
       "      <th>197</th>\n",
       "      <td>43.1</td>\n",
       "      <td>42.1</td>\n",
       "    </tr>\n",
       "  </tbody>\n",
       "</table>\n",
       "<p>198 rows × 2 columns</p>\n",
       "</div>"
      ],
      "text/plain": [
       "     Before  After\n",
       "0      63.5   61.2\n",
       "1      41.6   40.7\n",
       "2      59.7   55.1\n",
       "3      51.7   51.2\n",
       "4      47.0   47.1\n",
       "..      ...    ...\n",
       "193    71.3   74.3\n",
       "194    72.5   70.4\n",
       "195    30.8   33.1\n",
       "196    53.6   53.8\n",
       "197    43.1   42.1\n",
       "\n",
       "[198 rows x 2 columns]"
      ]
     },
     "execution_count": 5,
     "metadata": {},
     "output_type": "execute_result"
    }
   ],
   "source": [
    "table = pd.DataFrame(columns = [\"Before\", \"After\"], index = [i for i in range(len(drugged_memory_test))])\n",
    "table[\"Before\"] = drugged_memory_test[\"Mem_Score_Before\"]\n",
    "table[\"After\"] = drugged_memory_test[\"Mem_Score_After\"]\n",
    "\n",
    "table"
   ]
  },
  {
   "cell_type": "markdown",
   "metadata": {},
   "source": [
    "2. Побудувати графік, що відображає розкид даних в групах."
   ]
  },
  {
   "cell_type": "code",
   "execution_count": 6,
   "metadata": {},
   "outputs": [
    {
     "data": {
      "text/plain": [
       "[Text(0.5, 0, 'Memory sore')]"
      ]
     },
     "execution_count": 6,
     "metadata": {},
     "output_type": "execute_result"
    },
    {
     "data": {
      "image/png": "[encoded data removed]",
      "text/plain": [
       "<Figure size 432x288 with 1 Axes>"
      ]
     },
     "metadata": {
      "needs_background": "light"
     },
     "output_type": "display_data"
    }
   ],
   "source": [
    "sns.boxplot(data = table, orient='h').set(xlabel=\"Memory sore\")"
   ]
  },
  {
   "cell_type": "markdown",
   "metadata": {},
   "source": [
    "3. Написати функції:\n",
    "    * для оцінки зв'язку між групами за коефіцієнтом кореляції Пірсона. Функція має повертати значення коефіцієнту кореляції, значення ступеня свободи та результат оцінки значимості зв'зку (significant або not significant).\n",
    "\n",
    "    * для визначення відмінності між групами за критерієм Стьюдента. Функція має повертати значення критерію Стьюдента,значення ступеня свободи та результат оцінки значимості зв'язку (significant або not significant). "
   ]
  },
  {
   "cell_type": "code",
   "execution_count": 13,
   "metadata": {},
   "outputs": [],
   "source": [
    "def Pearson(table):\n",
    "    keys = table.keys()\n",
    "    n = len(table)\n",
    "    r_numerator = (n*pd.Series(table[keys[0]]*table[keys[1]]).sum())-(pd.Series(table[keys[0]]).sum()*pd.Series(table[keys[1]])).sum()\n",
    "    r_denominator = sqrt(((n*pd.Series(table[keys[0]]**2).sum())-(pd.Series(table[keys[0]]).sum()**2))*\n",
    "                         ((n*pd.Series(table[keys[1]]**2).sum())-(pd.Series(table[keys[1]]).sum()**2)))\n",
    "    r = r_numerator/r_denominator\n",
    "    df = n-2\n",
    "    correlation_table = pd.read_excel(\"Correlation.xlsx\")\n",
    "    r_table = 0\n",
    "    i = 0\n",
    "    while ((i < len(correlation_table)-1) and (df > correlation_table.iloc[i,0])):\n",
    "        r_table = correlation_table.iloc[i,1]\n",
    "        i += 1\n",
    "    if (df < correlation_table.iloc[i-1,0]):\n",
    "        if (abs(df-correlation_table.iloc[i-1,0]) > abs(df-correlation_table.iloc[i,0])):\n",
    "            r_table = correlation_table.iloc[i,1]\n",
    "    \n",
    "    return r, df, \"SIGNIFICANT\" if abs(r) > r_table else \"NOT SIGNIFICANT\""
   ]
  },
  {
   "cell_type": "code",
   "execution_count": 17,
   "metadata": {},
   "outputs": [],
   "source": [
    "def Student(table):\n",
    "    keys = table.keys()\n",
    "    n = len(table)\n",
    "    mean = (table[keys[0]]-table[keys[1]]).mean()\n",
    "    std = (table[keys[0]]-table[keys[1]]).std()\n",
    "    t = (mean/std)*sqrt(n)\n",
    "    df = n-1\n",
    "    Student_table = pd.read_excel(\"Student.xlsx\")\n",
    "    t_table = 0\n",
    "    i = 0\n",
    "    while ((i < len(Student_table)-1) and (df > Student_table.iloc[i,0])):\n",
    "        t_table = Student_table.iloc[i,1]\n",
    "        i += 1\n",
    "    if (abs(df-Student_table.iloc[i-1,0]) > abs(df-Student_table.iloc[i,0])):\n",
    "        t_table = Student_table.iloc[i,1]\n",
    "    \n",
    "    return t, df, \"SIGNIFICANT\" if abs(t) > t_table else \"NOT SIGNIFICANT\""
   ]
  },
  {
   "cell_type": "markdown",
   "metadata": {},
   "source": [
    "4. Перевірити розбіжність на між групами на даних з п. 1. "
   ]
  },
  {
   "cell_type": "code",
   "execution_count": 20,
   "metadata": {},
   "outputs": [
    {
     "data": {
      "text/plain": [
       "(0.80752816149054, 196, 'SIGNIFICANT')"
      ]
     },
     "execution_count": 20,
     "metadata": {},
     "output_type": "execute_result"
    }
   ],
   "source": [
    "Pearson(table)"
   ]
  },
  {
   "cell_type": "markdown",
   "metadata": {},
   "source": [
    "Кореляция существует и она значительна."
   ]
  },
  {
   "cell_type": "code",
   "execution_count": 21,
   "metadata": {},
   "outputs": [
    {
     "data": {
      "text/plain": [
       "(-3.8657067402083998, 197, 'SIGNIFICANT')"
      ]
     },
     "execution_count": 21,
     "metadata": {},
     "output_type": "execute_result"
    }
   ],
   "source": [
    "Student(table)"
   ]
  },
  {
   "cell_type": "markdown",
   "metadata": {},
   "source": [
    "Значимая связь существует."
   ]
  },
  {
   "cell_type": "markdown",
   "metadata": {},
   "source": [
    "5. Сформувати висновок про взаємозв'язок між групами та про їх розбіжність."
   ]
  },
  {
   "cell_type": "markdown",
   "metadata": {},
   "source": [
    "Данные значительно коррелируют, но это ожидаемо, так как тест память проходит один и тот же человек и больших разбросов быть не должно. Так же теперь мы можем сказать, после оценки данных критерием Стьюдента, что связь между употреблением Alprazolam и улучшением памяти существует. На это указывает отрицательное значение ~ -3.9 критерия."
   ]
  }
 ],
 "metadata": {
  "kernelspec": {
   "display_name": "Python 3",
   "language": "python",
   "name": "python3"
  },
  "language_info": {
   "codemirror_mode": {
    "name": "ipython",
    "version": 3
   },
   "file_extension": ".py",
   "mimetype": "text/x-python",
   "name": "python",
   "nbconvert_exporter": "python",
   "pygments_lexer": "ipython3",
   "version": "3.8.2"
  }
 },
 "nbformat": 4,
 "nbformat_minor": 4
}
